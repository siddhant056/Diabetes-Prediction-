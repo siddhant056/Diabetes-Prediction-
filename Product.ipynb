{
 "cells": [
  {
   "cell_type": "code",
   "execution_count": 1,
   "metadata": {},
   "outputs": [],
   "source": [
    "import numpy as np\n",
    "import pandas as pd\n",
    "from sklearn.externals import joblib\n"
   ]
  },
  {
   "cell_type": "code",
   "execution_count": 2,
   "metadata": {},
   "outputs": [],
   "source": [
    "clf=joblib.load('dia.joblib')\n"
   ]
  },
  {
   "cell_type": "code",
   "execution_count": 5,
   "metadata": {},
   "outputs": [
    {
     "name": "stdout",
     "output_type": "stream",
     "text": [
      "pregnancies:0\n",
      "Glucose:70\n",
      "blood pressure:122\n",
      "skin thickness:35\n",
      "insulin:95\n",
      "BMI:20\n",
      "Diabetes Pedigree Function:0.2\n",
      "Age:21\n"
     ]
    }
   ],
   "source": [
    "a = input(\"pregnancies:\")\n",
    "b = input(\"Glucose:\")\n",
    "c = input(\"blood pressure:\")\n",
    "d = input(\"skin thickness:\")\n",
    "e = input(\"insulin:\")\n",
    "f = input(\"BMI:\")\n",
    "g = input(\"Diabetes Pedigree Function:\")\n",
    "h = input(\"Age:\")\n",
    "\n",
    "x = []\n",
    "\n",
    "x.append(a)\n",
    "x.append(b)\n",
    "x.append(c)\n",
    "x.append(d)\n",
    "x.append(e)\n",
    "x.append(f)\n",
    "x.append(g)\n",
    "x.append(h)\n",
    "\n"
   ]
  },
  {
   "cell_type": "code",
   "execution_count": 6,
   "metadata": {},
   "outputs": [
    {
     "name": "stdout",
     "output_type": "stream",
     "text": [
      "Normal\n"
     ]
    }
   ],
   "source": [
    "x=np.array(x).reshape(-1,8)\n",
    "\n",
    "a=clf.predict(x)\n",
    "\n",
    "if a==1:\n",
    "    print('Diabetic')\n",
    "else:\n",
    "    print('Normal')"
   ]
  },
  {
   "cell_type": "code",
   "execution_count": null,
   "metadata": {},
   "outputs": [],
   "source": []
  }
 ],
 "metadata": {
  "kernelspec": {
   "display_name": "Python 3",
   "language": "python",
   "name": "python3"
  },
  "language_info": {
   "codemirror_mode": {
    "name": "ipython",
    "version": 3
   },
   "file_extension": ".py",
   "mimetype": "text/x-python",
   "name": "python",
   "nbconvert_exporter": "python",
   "pygments_lexer": "ipython3",
   "version": "3.7.1"
  }
 },
 "nbformat": 4,
 "nbformat_minor": 2
}
